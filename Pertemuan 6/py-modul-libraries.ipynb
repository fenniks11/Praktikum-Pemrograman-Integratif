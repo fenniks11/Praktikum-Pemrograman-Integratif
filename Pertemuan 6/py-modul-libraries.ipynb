{
 "cells": [
  {
   "cell_type": "markdown",
   "metadata": {},
   "source": [
    "### Numpy adalah library yang digunakan untuk komputasi matematika saintifik"
   ]
  },
  {
   "cell_type": "code",
   "execution_count": 1,
   "metadata": {},
   "outputs": [],
   "source": [
    "# pip install numpy"
   ]
  },
  {
   "cell_type": "code",
   "execution_count": 2,
   "metadata": {},
   "outputs": [],
   "source": [
    "import numpy as np"
   ]
  },
  {
   "cell_type": "code",
   "execution_count": 3,
   "metadata": {},
   "outputs": [
    {
     "name": "stdout",
     "output_type": "stream",
     "text": [
      "[1 2 3 4 5]\n"
     ]
    }
   ],
   "source": [
    "a = np.array([1,2,3,4,5]) #array dalam numpy\n",
    "print(a)"
   ]
  },
  {
   "cell_type": "code",
   "execution_count": 4,
   "metadata": {},
   "outputs": [
    {
     "name": "stdout",
     "output_type": "stream",
     "text": [
      "[1, 2, 3, 4, 5]\n"
     ]
    }
   ],
   "source": [
    "b = [1,2,3,4,5] #list dalam python\n",
    "print(b)"
   ]
  },
  {
   "cell_type": "code",
   "execution_count": 5,
   "metadata": {},
   "outputs": [
    {
     "name": "stdout",
     "output_type": "stream",
     "text": [
      "[2 3 4 5 6]\n"
     ]
    }
   ],
   "source": [
    "a = a+1 #element wise operation\n",
    "print(a)"
   ]
  },
  {
   "cell_type": "code",
   "execution_count": 6,
   "metadata": {},
   "outputs": [],
   "source": [
    "# b = b+1 #Operasi ini tidak bisa dijalankan di List Python\n",
    "# print(b)"
   ]
  },
  {
   "cell_type": "code",
   "execution_count": 7,
   "metadata": {},
   "outputs": [
    {
     "name": "stdout",
     "output_type": "stream",
     "text": [
      "[1.  1.5 2.  3.6 5. ]\n"
     ]
    }
   ],
   "source": [
    "# Vector numpy dengan angka yang berkoma\n",
    "c = np.array([1, 1.5, 2, 3.6, 5])\n",
    "print(c)"
   ]
  },
  {
   "cell_type": "code",
   "execution_count": 8,
   "metadata": {},
   "outputs": [
    {
     "name": "stdout",
     "output_type": "stream",
     "text": [
      "[1 2 3 4 5 6 7 8 9]\n"
     ]
    }
   ],
   "source": [
    "# Vector numpy dengan range\n",
    "d = np.arange(1, 10, 1)\n",
    "print(d)"
   ]
  },
  {
   "cell_type": "code",
   "execution_count": 9,
   "metadata": {},
   "outputs": [
    {
     "name": "stdout",
     "output_type": "stream",
     "text": [
      "[1 3 5 7 9]\n"
     ]
    }
   ],
   "source": [
    "# Vector numpy dengan range\n",
    "d = np.arange(1, 10, 2)\n",
    "print(d)"
   ]
  },
  {
   "cell_type": "code",
   "execution_count": 10,
   "metadata": {},
   "outputs": [
    {
     "name": "stdout",
     "output_type": "stream",
     "text": [
      "[ 1. 10.]\n"
     ]
    }
   ],
   "source": [
    "# Vector numpy dengan linear space\n",
    "d = np.linspace(1, 10, 2)\n",
    "print(d)"
   ]
  },
  {
   "cell_type": "code",
   "execution_count": 11,
   "metadata": {},
   "outputs": [
    {
     "name": "stdout",
     "output_type": "stream",
     "text": [
      "[ 1.   5.5 10. ]\n"
     ]
    }
   ],
   "source": [
    "# Vector numpy dengan linear space\n",
    "d = np.linspace(1, 10, 3)\n",
    "print(d)"
   ]
  },
  {
   "cell_type": "code",
   "execution_count": 21,
   "metadata": {},
   "outputs": [],
   "source": [
    "# Operasi Aritmatika dalam Numpy\n",
    "\n",
    "# list Python\n",
    "a = [1,2,3,4,5]\n",
    "b = [6,7,8,9,10]\n",
    "\n",
    "# array dalam numpy\n",
    "anp = np.array([1,2,3,4,5])\n",
    "bnp = np.array([6,7,8,9,10])"
   ]
  },
  {
   "cell_type": "code",
   "execution_count": 22,
   "metadata": {},
   "outputs": [
    {
     "name": "stdout",
     "output_type": "stream",
     "text": [
      "[1, 2, 3, 4, 5, 6, 7, 8, 9, 10]\n"
     ]
    }
   ],
   "source": [
    "hasil = a + b\n",
    "print(hasil)"
   ]
  },
  {
   "cell_type": "code",
   "execution_count": 23,
   "metadata": {},
   "outputs": [
    {
     "name": "stdout",
     "output_type": "stream",
     "text": [
      "[ 7  9 11 13 15]\n"
     ]
    }
   ],
   "source": [
    "# Penjumlahan\n",
    "hasil = anp + bnp\n",
    "print(hasil)"
   ]
  },
  {
   "cell_type": "code",
   "execution_count": 24,
   "metadata": {},
   "outputs": [
    {
     "name": "stdout",
     "output_type": "stream",
     "text": [
      "[-5 -5 -5 -5 -5]\n"
     ]
    }
   ],
   "source": [
    "# Pengurangan\n",
    "hasil = anp - bnp\n",
    "print(hasil)"
   ]
  },
  {
   "cell_type": "code",
   "execution_count": 25,
   "metadata": {},
   "outputs": [
    {
     "name": "stdout",
     "output_type": "stream",
     "text": [
      "[ 6 14 24 36 50]\n"
     ]
    }
   ],
   "source": [
    "# Perkalian\n",
    "hasil = anp * bnp\n",
    "print(hasil)"
   ]
  },
  {
   "cell_type": "code",
   "execution_count": 26,
   "metadata": {},
   "outputs": [
    {
     "name": "stdout",
     "output_type": "stream",
     "text": [
      "[0.16666667 0.28571429 0.375      0.44444444 0.5       ]\n"
     ]
    }
   ],
   "source": [
    "# Pembagian\n",
    "hasil = anp / bnp\n",
    "print(hasil)"
   ]
  },
  {
   "cell_type": "code",
   "execution_count": 27,
   "metadata": {},
   "outputs": [
    {
     "name": "stdout",
     "output_type": "stream",
     "text": [
      "[ 1  4  9 16 25]\n"
     ]
    }
   ],
   "source": [
    "# perpangkatan\n",
    "hasil = anp ** 2\n",
    "print(hasil)"
   ]
  },
  {
   "cell_type": "code",
   "execution_count": 58,
   "metadata": {},
   "outputs": [
    {
     "name": "stdout",
     "output_type": "stream",
     "text": [
      "[ 0  1  4  9 16 25 36 49 64 81]\n"
     ]
    }
   ],
   "source": [
    "# Indexing, Slicing, Iteration\n",
    "a = np.arange(10)**2\n",
    "print(a)"
   ]
  },
  {
   "cell_type": "code",
   "execution_count": 59,
   "metadata": {},
   "outputs": [
    {
     "name": "stdout",
     "output_type": "stream",
     "text": [
      "Cetak elemen pertama:  0\n"
     ]
    }
   ],
   "source": [
    "# Indexing = mengambil elemen tertentu dalam vector\n",
    "print(\"Cetak elemen pertama: \",a[0])"
   ]
  },
  {
   "cell_type": "code",
   "execution_count": 60,
   "metadata": {},
   "outputs": [
    {
     "name": "stdout",
     "output_type": "stream",
     "text": [
      "Cetak elemen terakhir:  81\n"
     ]
    }
   ],
   "source": [
    "# Indexing = mengambil elemen tertentu dalam vector\n",
    "print(\"Cetak elemen terakhir: \",a[9])"
   ]
  },
  {
   "cell_type": "code",
   "execution_count": 62,
   "metadata": {},
   "outputs": [
    {
     "name": "stdout",
     "output_type": "stream",
     "text": [
      "Cetak elemen pertama sampai kelima:  [ 0  1  4  9 16]\n"
     ]
    }
   ],
   "source": [
    "# Slicing: Memotong elemen dalam vector\n",
    "print(\"Cetak elemen pertama sampai kelima: \", a[:5])"
   ]
  },
  {
   "cell_type": "code",
   "execution_count": 63,
   "metadata": {},
   "outputs": [
    {
     "name": "stdout",
     "output_type": "stream",
     "text": [
      "Cetak elemen kelima sampai elemen terakhir:  [16 25 36 49 64 81]\n"
     ]
    }
   ],
   "source": [
    "# Slicing: Memotong elemen dalam vector\n",
    "print(\"Cetak elemen kelima sampai elemen terakhir: \", a[4:])"
   ]
  },
  {
   "cell_type": "code",
   "execution_count": 64,
   "metadata": {},
   "outputs": [
    {
     "name": "stdout",
     "output_type": "stream",
     "text": [
      "Cetak elemen ketiga sampai elemen kelima:  [ 4  9 16]\n"
     ]
    }
   ],
   "source": [
    "# Slicing: Memotong elemen dalam vector\n",
    "print(\"Cetak elemen ketiga sampai elemen kelima: \", a[2:5])"
   ]
  },
  {
   "cell_type": "markdown",
   "metadata": {},
   "source": [
    "# Pandas\n",
    "Pandas adalah library Python yang digunakan untuk melakukan analisis, pembersihan, eksplorasi dan manipulasi terhadap sekumpulan data(dataset)."
   ]
  },
  {
   "cell_type": "markdown",
   "metadata": {},
   "source": [
    "Fungsi Pandas:\n",
    "- Mencari korelasi antara dua atau lebih kolom data.\n",
    "- Menghitung nilai rata-rata.\n",
    "- Mengetahui nilai maksimum.\n",
    "- Mengetahui nilai minimum."
   ]
  },
  {
   "cell_type": "code",
   "execution_count": null,
   "metadata": {},
   "outputs": [],
   "source": [
    "# Install\n",
    "# python -m pip install pandas\n",
    "# pip install pandas"
   ]
  },
  {
   "cell_type": "code",
   "execution_count": 1,
   "metadata": {},
   "outputs": [],
   "source": [
    "# import library\n",
    "import pandas"
   ]
  },
  {
   "cell_type": "code",
   "execution_count": 5,
   "metadata": {},
   "outputs": [],
   "source": [
    "mydataset = {\n",
    "'people': [\"Tall\", \"Short\", \"Medium\"],\n",
    "'passings': [3, 7, 2]\n",
    "}"
   ]
  },
  {
   "cell_type": "code",
   "execution_count": 6,
   "metadata": {},
   "outputs": [
    {
     "name": "stdout",
     "output_type": "stream",
     "text": [
      "   people  passings\n",
      "0    Tall         3\n",
      "1   Short         7\n",
      "2  Medium         2\n"
     ]
    }
   ],
   "source": [
    "# Membuat dataframe\n",
    "myvar = pandas.DataFrame(mydataset)\n",
    "print(myvar)"
   ]
  },
  {
   "cell_type": "markdown",
   "metadata": {},
   "source": [
    "**DataFrame** adalah struktur data 2 dimensi, seperti larik 2 dimensi atau tabel dengan baris dan kolom, yang memungkinkan kita untuk:\n",
    "\n",
    "- Menemukan baris.\n",
    "- Mengindeks kolom.\n",
    "- Mengambil N jumlah baris dari bagian atas (Head).\n",
    "- Mengambil N jumlah baris dari bagian bawah (Tail).\n",
    "- Mengambil informasi ringkas.\n",
    "- Membersihkan data.\n",
    "- Menemukan korelasi.\n",
    "- Memplot data."
   ]
  },
  {
   "cell_type": "code",
   "execution_count": 8,
   "metadata": {},
   "outputs": [
    {
     "name": "stdout",
     "output_type": "stream",
     "text": [
      "Baris ke-2:\n",
      "people      Short\n",
      "passings        7\n",
      "Name: 1, dtype: object\n"
     ]
    }
   ],
   "source": [
    "# 1. Temukan baris\n",
    "print(\"Baris ke-2:\")\n",
    "print(myvar.iloc[1])  # Temukan baris ke-2 (indeks dimulai dari 0)"
   ]
  },
  {
   "cell_type": "code",
   "execution_count": 9,
   "metadata": {},
   "outputs": [
    {
     "name": "stdout",
     "output_type": "stream",
     "text": [
      "Kolom 'people':\n",
      "0      Tall\n",
      "1     Short\n",
      "2    Medium\n",
      "Name: people, dtype: object\n"
     ]
    }
   ],
   "source": [
    "# 2. Indeks kolom\n",
    "print(\"Kolom 'people':\")\n",
    "print(myvar['people'])  # Indeks kolom 'people'"
   ]
  },
  {
   "cell_type": "code",
   "execution_count": 10,
   "metadata": {},
   "outputs": [
    {
     "name": "stdout",
     "output_type": "stream",
     "text": [
      "Tiga baris pertama:\n",
      "   people  passings\n",
      "0    Tall         3\n",
      "1   Short         7\n",
      "2  Medium         2\n"
     ]
    }
   ],
   "source": [
    "# 3. Mengambil N jumlah baris dari atas (Head)\n",
    "print(\"Tiga baris pertama:\")\n",
    "print(myvar.head(3))  # Ambil tiga baris pertama"
   ]
  },
  {
   "cell_type": "code",
   "execution_count": 11,
   "metadata": {},
   "outputs": [
    {
     "name": "stdout",
     "output_type": "stream",
     "text": [
      "Dua baris terakhir:\n",
      "   people  passings\n",
      "1   Short         7\n",
      "2  Medium         2\n"
     ]
    }
   ],
   "source": [
    "# 4. Mengambil N jumlah baris dari bawah (Tail)\n",
    "print(\"Dua baris terakhir:\")\n",
    "print(myvar.tail(2))  # Ambil dua baris terakhir"
   ]
  },
  {
   "cell_type": "code",
   "execution_count": 12,
   "metadata": {},
   "outputs": [
    {
     "name": "stdout",
     "output_type": "stream",
     "text": [
      "Informasi agregat:\n",
      "       passings\n",
      "count  3.000000\n",
      "mean   4.000000\n",
      "std    2.645751\n",
      "min    2.000000\n",
      "25%    2.500000\n",
      "50%    3.000000\n",
      "75%    5.000000\n",
      "max    7.000000\n"
     ]
    }
   ],
   "source": [
    "# 5. Mengambil informasi ringkas\n",
    "print(\"Informasi ringkas:\")\n",
    "print(myvar.describe())  # Mengambil informasi ringkas"
   ]
  },
  {
   "cell_type": "markdown",
   "metadata": {},
   "source": [
    "## Matplotplib\n",
    "Matplotlib adalah pustaka visualisasi grafik tingkat rendah dalam bahasa pemrograman Python yang berfungsi sebagai utilitas visualisasi."
   ]
  },
  {
   "cell_type": "code",
   "execution_count": null,
   "metadata": {},
   "outputs": [],
   "source": [
    "# Install matplotlib\n",
    "# python -m pip install matplotlib\n",
    "# pip install matplotlib"
   ]
  },
  {
   "cell_type": "code",
   "execution_count": 14,
   "metadata": {},
   "outputs": [
    {
     "data": {
      "image/png": "[encoded data removed]",
      "text/plain": [
       "<Figure size 432x288 with 1 Axes>"
      ]
     },
     "metadata": {
      "needs_background": "light"
     },
     "output_type": "display_data"
    }
   ],
   "source": [
    "import matplotlib.pyplot\n",
    "import numpy\n",
    "xpoints = numpy.array([0, 5])\n",
    "ypoints = numpy.array([0, 500])\n",
    "matplotlib.pyplot.plot(xpoints, ypoints)\n",
    "matplotlib.pyplot.show()"
   ]
  },
  {
   "cell_type": "code",
   "execution_count": 13,
   "metadata": {},
   "outputs": [
    {
     "data": {
      "image/png": "[encoded data removed]",
      "text/plain": [
       "<Figure size 432x288 with 1 Axes>"
      ]
     },
     "metadata": {
      "needs_background": "light"
     },
     "output_type": "display_data"
    }
   ],
   "source": [
    "import pandas as pd\n",
    "import matplotlib.pyplot as plt\n",
    "\n",
    "# Buat dataset\n",
    "mydataset = {\n",
    "    'people': [\"Tall\", \"Short\", \"Medium\"],\n",
    "    'passings': [3, 7, 2]\n",
    "}\n",
    "\n",
    "# Membuat DataFrame\n",
    "myvar = pd.DataFrame(mydataset)\n",
    "\n",
    "# Memplot diagram batang (bar plot)\n",
    "plt.bar(myvar['people'], myvar['passings'])\n",
    "plt.xlabel('People')\n",
    "plt.ylabel('Passings')\n",
    "plt.title('Number of Passings by People')\n",
    "plt.show()\n"
   ]
  },
  {
   "cell_type": "markdown",
   "metadata": {},
   "source": [
    "## Jenis-jenis visualisasi dalam Matplotlib\n",
    "1) Scatter Plot"
   ]
  },
  {
   "cell_type": "code",
   "execution_count": 15,
   "metadata": {},
   "outputs": [
    {
     "data": {
      "image/png": "[encoded data removed]",
      "text/plain": [
       "<Figure size 432x288 with 1 Axes>"
      ]
     },
     "metadata": {
      "needs_background": "light"
     },
     "output_type": "display_data"
    }
   ],
   "source": [
    "import matplotlib.pyplot as plt\n",
    "\n",
    "# Data\n",
    "x = [1, 2, 3, 4, 5]\n",
    "y = [5, 7, 8, 2, 4]\n",
    "\n",
    "# Scatter Plot\n",
    "plt.scatter(x, y)\n",
    "plt.xlabel('X-axis')\n",
    "plt.ylabel('Y-axis')\n",
    "plt.title('Scatter Plot')\n",
    "plt.show()\n"
   ]
  },
  {
   "cell_type": "markdown",
   "metadata": {},
   "source": [
    "2). Bar Graph"
   ]
  },
  {
   "cell_type": "code",
   "execution_count": 16,
   "metadata": {},
   "outputs": [
    {
     "data": {
      "image/png": "[encoded data removed]",
      "text/plain": [
       "<Figure size 432x288 with 1 Axes>"
      ]
     },
     "metadata": {
      "needs_background": "light"
     },
     "output_type": "display_data"
    }
   ],
   "source": [
    "import matplotlib.pyplot as plt\n",
    "\n",
    "# Data\n",
    "x = ['A', 'B', 'C', 'D', 'E']\n",
    "y = [3, 7, 2, 5, 8]\n",
    "\n",
    "# Bar Graph\n",
    "plt.bar(x, y)\n",
    "plt.xlabel('Categories')\n",
    "plt.ylabel('Values')\n",
    "plt.title('Bar Graph')\n",
    "plt.show()\n"
   ]
  },
  {
   "cell_type": "markdown",
   "metadata": {},
   "source": [
    "3) Histogram"
   ]
  },
  {
   "cell_type": "code",
   "execution_count": 17,
   "metadata": {},
   "outputs": [
    {
     "data": {
      "image/png": "[encoded data removed]",
      "text/plain": [
       "<Figure size 432x288 with 1 Axes>"
      ]
     },
     "metadata": {
      "needs_background": "light"
     },
     "output_type": "display_data"
    }
   ],
   "source": [
    "import matplotlib.pyplot as plt\n",
    "import numpy as np\n",
    "\n",
    "# Generate random data\n",
    "data = np.random.randn(1000)\n",
    "\n",
    "# Histogram\n",
    "plt.hist(data, bins=30, color='blue', alpha=0.7)\n",
    "plt.xlabel('Values')\n",
    "plt.ylabel('Frequency')\n",
    "plt.title('Histogram')\n",
    "plt.show()"
   ]
  },
  {
   "cell_type": "markdown",
   "metadata": {},
   "source": [
    "4) Pie Chart"
   ]
  },
  {
   "cell_type": "code",
   "execution_count": 18,
   "metadata": {},
   "outputs": [
    {
     "data": {
      "image/png": "[encoded data removed]",
      "text/plain": [
       "<Figure size 432x288 with 1 Axes>"
      ]
     },
     "metadata": {},
     "output_type": "display_data"
    }
   ],
   "source": [
    "import matplotlib.pyplot as plt\n",
    "\n",
    "# Data\n",
    "labels = ['A', 'B', 'C', 'D']\n",
    "sizes = [15, 30, 45, 10]\n",
    "\n",
    "# Pie Chart\n",
    "plt.pie(sizes, labels=labels, autopct='%1.1f%%')\n",
    "plt.title('Pie Chart')\n",
    "plt.show()"
   ]
  }
 ],
 "metadata": {
  "kernelspec": {
   "display_name": "Python 3",
   "language": "python",
   "name": "python3"
  },
  "language_info": {
   "codemirror_mode": {
    "name": "ipython",
    "version": 3
   },
   "file_extension": ".py",
   "mimetype": "text/x-python",
   "name": "python",
   "nbconvert_exporter": "python",
   "pygments_lexer": "ipython3",
   "version": "3.10.8"
  }
 },
 "nbformat": 4,
 "nbformat_minor": 2
}
