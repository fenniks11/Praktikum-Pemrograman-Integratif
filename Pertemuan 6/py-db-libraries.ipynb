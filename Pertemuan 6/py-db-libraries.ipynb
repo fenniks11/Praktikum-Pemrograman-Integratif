{
 "cells": [
  {
   "cell_type": "markdown",
   "metadata": {},
   "source": [
    "# Python Database Libraries"
   ]
  },
  {
   "cell_type": "markdown",
   "metadata": {},
   "source": [
    "## Intro\n",
    "- Database adalah kumpulan data yang terorganisir dengan baik yang dapat diakses, dimodifikasi, dan dikelola secara efisien.\n",
    "- Database digunakan dalam berbagai aplikasi mulai dari aplikasi desktop hingga aplikasi web skala besar.\n",
    "- Dalam pengembangan perangkat lunak, penting untuk dapat terhubung dan berinteraksi dengan database untuk menyimpan dan mengambil data."
   ]
  },
  {
   "cell_type": "markdown",
   "metadata": {},
   "source": [
    "## Python dan Database\n",
    "- Python adalah bahasa pemrograman yang sangat populer dan kuat dalam pengembangan perangkat lunak.\n",
    "- Python memiliki banyak library yang memudahkan pengembang untuk terhubung dengan berbagai jenis database."
   ]
  },
  {
   "cell_type": "markdown",
   "metadata": {},
   "source": [
    "## Library Python untuk Database"
   ]
  },
  {
   "cell_type": "markdown",
   "metadata": {},
   "source": [
    "**a. SQLite 3**  \n",
    "    Digunakan untuk bekerja dengan database SQLite, yang merupakan database ringan yang tersimpan dalam satu file.  \n",
    "**b. MySQL Connector**  \n",
    "    Digunakan untuk menghubungkan Python dengan database MySQL.  \n",
    "**c. Psycopg2**  \n",
    "    Digunakan untuk menghubungkan Python dengan database PostgreSQL.  \n",
    "**d.  SQLAlchemy**  \n",
    "    Digunakan untuk ORM (Object-Relational Mapping) dan abstraksi database lainnya."
   ]
  },
  {
   "cell_type": "markdown",
   "metadata": {},
   "source": [
    "**a. SQLite 3** "
   ]
  },
  {
   "cell_type": "markdown",
   "metadata": {},
   "source": [
    "- **Menghubungkan ke Database**  \n",
    "- **Membuat Kursor**\n",
    "- **Menjalankan Query**   \n",
    "- **Melakukan Commit**  \n",
    "- **Menutup Koneksi**"
   ]
  },
  {
   "cell_type": "markdown",
   "metadata": {},
   "source": [
    "1) Membuat tabel dan memasukkan data(Create)"
   ]
  },
  {
   "cell_type": "code",
   "execution_count": 30,
   "metadata": {},
   "outputs": [],
   "source": [
    "# import library\n",
    "import sqlite3 "
   ]
  },
  {
   "cell_type": "code",
   "execution_count": 31,
   "metadata": {},
   "outputs": [],
   "source": [
    "# Menghubungkan ke database\n",
    "conn = sqlite3.connect('example.db')"
   ]
  },
  {
   "cell_type": "code",
   "execution_count": 32,
   "metadata": {},
   "outputs": [],
   "source": [
    "# Membuat kursor\n",
    "cursor = conn.cursor()"
   ]
  },
  {
   "cell_type": "code",
   "execution_count": 33,
   "metadata": {},
   "outputs": [
    {
     "data": {
      "text/plain": [
       "<sqlite3.Cursor at 0x1f713aadec0>"
      ]
     },
     "execution_count": 33,
     "metadata": {},
     "output_type": "execute_result"
    }
   ],
   "source": [
    "# Membuat tabel\n",
    "cursor.execute('''CREATE TABLE IF NOT EXISTS stocks\n",
    "              (date text, trans text, symbol text, qty real, price real)''')"
   ]
  },
  {
   "cell_type": "code",
   "execution_count": 34,
   "metadata": {},
   "outputs": [
    {
     "data": {
      "text/plain": [
       "<sqlite3.Cursor at 0x1f713aadec0>"
      ]
     },
     "execution_count": 34,
     "metadata": {},
     "output_type": "execute_result"
    }
   ],
   "source": [
    "# Menyisipkan data\n",
    "cursor.execute(\"INSERT INTO stocks VALUES ('2006-01-05','BUY','RHAT',100,35.14)\")"
   ]
  },
  {
   "cell_type": "code",
   "execution_count": 35,
   "metadata": {},
   "outputs": [],
   "source": [
    "# Melakukan commit\n",
    "conn.commit()\n",
    "\n",
    "# Menutup koneksi\n",
    "conn.close()"
   ]
  },
  {
   "cell_type": "markdown",
   "metadata": {},
   "source": [
    "2) Membaca data dari SQLite 3(Read)"
   ]
  },
  {
   "cell_type": "code",
   "execution_count": 36,
   "metadata": {},
   "outputs": [
    {
     "name": "stdout",
     "output_type": "stream",
     "text": [
      "('2006-01-05', 'BUY', 'RHAT', 100.0, 35.14)\n"
     ]
    }
   ],
   "source": [
    "import sqlite3\n",
    "\n",
    "# Menghubungkan ke database\n",
    "conn = sqlite3.connect('example.db')\n",
    "\n",
    "# Membuat kursor\n",
    "cursor = conn.cursor()\n",
    "\n",
    "# Menjalankan query\n",
    "cursor.execute(\"SELECT * FROM stocks\")\n",
    "\n",
    "# Mendapatkan hasil\n",
    "result = cursor.fetchall()\n",
    "\n",
    "# Menampilkan hasil\n",
    "for row in result:\n",
    "    print(row)\n",
    "\n",
    "# Menutup koneksi\n",
    "conn.close()\n"
   ]
  },
  {
   "cell_type": "markdown",
   "metadata": {},
   "source": [
    "3) Mengedit data(Update)"
   ]
  },
  {
   "cell_type": "code",
   "execution_count": 37,
   "metadata": {},
   "outputs": [
    {
     "name": "stdout",
     "output_type": "stream",
     "text": [
      "Data telah diperbarui.\n"
     ]
    }
   ],
   "source": [
    "import sqlite3\n",
    "\n",
    "# Menghubungkan ke database\n",
    "conn = sqlite3.connect('example.db')\n",
    "\n",
    "# Membuat kursor\n",
    "cursor = conn.cursor()\n",
    "\n",
    "# Menjalankan query update\n",
    "cursor.execute(\"UPDATE stocks SET qty = ? WHERE symbol = ?\", (200, 'RHAT'))\n",
    "\n",
    "# Melakukan commit\n",
    "conn.commit()\n",
    "\n",
    "# Menampilkan pesan bahwa data telah diperbarui\n",
    "print(\"Data telah diperbarui.\")\n",
    "\n",
    "# Menutup koneksi\n",
    "conn.close()\n"
   ]
  },
  {
   "cell_type": "markdown",
   "metadata": {},
   "source": [
    "4) Menghapus Data(Delete)"
   ]
  },
  {
   "cell_type": "code",
   "execution_count": 38,
   "metadata": {},
   "outputs": [
    {
     "name": "stdout",
     "output_type": "stream",
     "text": [
      "Data telah dihapus.\n"
     ]
    }
   ],
   "source": [
    "import sqlite3\n",
    "\n",
    "# Menghubungkan ke database\n",
    "conn = sqlite3.connect('example.db')\n",
    "\n",
    "# Membuat kursor\n",
    "cursor = conn.cursor()\n",
    "\n",
    "# Menjalankan query delete\n",
    "cursor.execute(\"DELETE FROM stocks WHERE symbol = ?\", ('RHAT',))\n",
    "\n",
    "# Melakukan commit\n",
    "conn.commit()\n",
    "\n",
    "# Menampilkan pesan bahwa data telah dihapus\n",
    "print(\"Data telah dihapus.\")\n",
    "\n",
    "# Menutup koneksi\n",
    "conn.close()\n"
   ]
  },
  {
   "cell_type": "markdown",
   "metadata": {},
   "source": [
    "**b. MySQL Connector**\n",
    "**- Menghubungkan ke Database**  \n",
    "**- Membuat Kursor**  \n",
    "**- Membuat Tabel**  \n",
    "**- Memasukkan Data**  \n",
    "**- Melakukan Commit (Opsional)**: Jika perubahan yang Anda lakukan perlu disimpan secara permanen, lakukan commit.  \n",
    "**- Menutup Koneksi**"
   ]
  },
  {
   "cell_type": "code",
   "execution_count": 39,
   "metadata": {},
   "outputs": [],
   "source": [
    "# Install Modul\n",
    "# python -m pip install mysql-connector-python"
   ]
  },
  {
   "cell_type": "markdown",
   "metadata": {},
   "source": [
    "1) Membuat tabel dan memasukkan data(Create)"
   ]
  },
  {
   "cell_type": "code",
   "execution_count": 40,
   "metadata": {},
   "outputs": [],
   "source": [
    "# Import Library\n",
    "import mysql.connector"
   ]
  },
  {
   "cell_type": "code",
   "execution_count": 41,
   "metadata": {},
   "outputs": [],
   "source": [
    "# Menghubungkan ke database\n",
    "conn = mysql.connector.connect(\n",
    "  host=\"localhost\",\n",
    "  user=\"root\",\n",
    "  password=\"\",\n",
    "  database=\"db_pi\"\n",
    ")"
   ]
  },
  {
   "cell_type": "code",
   "execution_count": 42,
   "metadata": {},
   "outputs": [],
   "source": [
    "# Membuat kursor\n",
    "cursor = conn.cursor()"
   ]
  },
  {
   "cell_type": "code",
   "execution_count": 43,
   "metadata": {},
   "outputs": [],
   "source": [
    "# Membuat tabel\n",
    "cursor.execute(\"CREATE TABLE IF NOT EXISTS data (id INT AUTO_INCREMENT PRIMARY KEY, name VARCHAR(255), age INT)\")"
   ]
  },
  {
   "cell_type": "code",
   "execution_count": 44,
   "metadata": {},
   "outputs": [
    {
     "name": "stdout",
     "output_type": "stream",
     "text": [
      "1 record inserted.\n"
     ]
    }
   ],
   "source": [
    "# Memasukkan data\n",
    "sql = \"INSERT INTO data (name, age) VALUES (%s, %s)\"\n",
    "val = (\"John\", 30)\n",
    "cursor.execute(sql, val)\n",
    "\n",
    "# Melakukan commit (opsional)\n",
    "conn.commit()\n",
    "\n",
    "# Menampilkan pesan bahwa data telah dimasukkan\n",
    "print(cursor.rowcount, \"record inserted.\")"
   ]
  },
  {
   "cell_type": "code",
   "execution_count": 45,
   "metadata": {},
   "outputs": [],
   "source": [
    "# Menutup koneksi\n",
    "conn.close()"
   ]
  },
  {
   "cell_type": "markdown",
   "metadata": {},
   "source": [
    "2) Menampilkan Data(Read)"
   ]
  },
  {
   "cell_type": "code",
   "execution_count": 48,
   "metadata": {},
   "outputs": [
    {
     "name": "stdout",
     "output_type": "stream",
     "text": [
      "(1, 'John', 30)\n"
     ]
    }
   ],
   "source": [
    "import mysql.connector\n",
    "\n",
    "# Menghubungkan ke database\n",
    "conn = mysql.connector.connect(\n",
    "  host=\"localhost\",\n",
    "  user=\"root\",\n",
    "  password=\"\",\n",
    "  database=\"db_pi\"\n",
    ")\n",
    "\n",
    "# Membuat kursor\n",
    "cursor = conn.cursor()\n",
    "\n",
    "# Menjalankan query untuk membaca data dari tabel data\n",
    "cursor.execute(\"SELECT * FROM data\")\n",
    "\n",
    "# Mendapatkan hasil\n",
    "result = cursor.fetchall()\n",
    "\n",
    "# Menampilkan hasil\n",
    "for row in result:\n",
    "  print(row)\n",
    "\n",
    "# Menutup koneksi\n",
    "conn.close()"
   ]
  },
  {
   "cell_type": "markdown",
   "metadata": {},
   "source": [
    "Membuat tabel dan memasukkan data secara manual melalui phpmyadmin, lalu menampilkan data."
   ]
  },
  {
   "cell_type": "code",
   "execution_count": 46,
   "metadata": {},
   "outputs": [
    {
     "name": "stdout",
     "output_type": "stream",
     "text": [
      "(1, 'fenni@gm.c', 'Fenni', 'Sarumaha', '085370179857', 'ID')\n"
     ]
    }
   ],
   "source": [
    "import mysql.connector\n",
    "\n",
    "# Menghubungkan ke database\n",
    "conn = mysql.connector.connect(\n",
    "  host=\"localhost\",\n",
    "  user=\"root\",\n",
    "  password=\"\",\n",
    "  database=\"db_pi\"\n",
    ")\n",
    "\n",
    "# Membuat kursor\n",
    "cursor = conn.cursor()\n",
    "\n",
    "# Menjalankan query untuk membaca data dari tabel customers\n",
    "cursor.execute(\"SELECT * FROM customers\")\n",
    "\n",
    "# Mendapatkan hasil\n",
    "result = cursor.fetchall()\n",
    "\n",
    "# Menampilkan hasil\n",
    "for row in result:\n",
    "  print(row)\n",
    "\n",
    "# Menutup koneksi\n",
    "conn.close()"
   ]
  },
  {
   "cell_type": "markdown",
   "metadata": {},
   "source": [
    "3) Mengedit Data(Update)"
   ]
  },
  {
   "cell_type": "code",
   "execution_count": 53,
   "metadata": {},
   "outputs": [
    {
     "name": "stdout",
     "output_type": "stream",
     "text": [
      "1 record(s) affected.\n",
      "(1, 'John', 30)\n"
     ]
    }
   ],
   "source": [
    "import mysql.connector\n",
    "\n",
    "# Menghubungkan ke database\n",
    "conn = mysql.connector.connect(\n",
    "  host=\"localhost\",\n",
    "  user=\"root\",\n",
    "  password=\"\",\n",
    "  database=\"db_pi\"\n",
    ")\n",
    "\n",
    "# Membuat kursor\n",
    "cursor = conn.cursor()\n",
    "\n",
    "# Menjalankan query update untuk mengupdate data pada tabel data\n",
    "sql = \"UPDATE data SET age = %s WHERE name = %s\"\n",
    "val = (30, \"John\")\n",
    "cursor.execute(sql, val)\n",
    "\n",
    "# Melakukan commit (opsional)\n",
    "conn.commit()\n",
    "\n",
    "# Menampilkan pesan bahwa data telah diubah\n",
    "print(cursor.rowcount, \"record(s) affected.\")\n",
    "\n",
    "# Menjalankan query untuk membaca data dari tabel customers\n",
    "cursor.execute(\"SELECT * FROM data\")\n",
    "\n",
    "# Mendapatkan hasil\n",
    "result = cursor.fetchall()\n",
    "\n",
    "# Menampilkan hasil\n",
    "for row in result:\n",
    "  print(row)\n",
    "  \n",
    "# Menutup koneksi\n",
    "conn.close()"
   ]
  },
  {
   "cell_type": "markdown",
   "metadata": {},
   "source": [
    "4) Menghapus Data(Delete)"
   ]
  },
  {
   "cell_type": "code",
   "execution_count": 54,
   "metadata": {},
   "outputs": [
    {
     "name": "stdout",
     "output_type": "stream",
     "text": [
      "1 record(s) deleted.\n"
     ]
    }
   ],
   "source": [
    "import mysql.connector\n",
    "\n",
    "# Menghubungkan ke database\n",
    "conn = mysql.connector.connect(\n",
    "  host=\"localhost\",\n",
    "  user=\"root\",\n",
    "  password=\"\",\n",
    "  database=\"db_pi\"\n",
    ")\n",
    "\n",
    "# Membuat kursor\n",
    "cursor = conn.cursor()\n",
    "\n",
    "# Menjalankan query delete\n",
    "sql = \"DELETE FROM data WHERE name = %s\"\n",
    "val = (\"John\",)\n",
    "cursor.execute(sql, val)\n",
    "\n",
    "# Melakukan commit (opsional)\n",
    "conn.commit()\n",
    "\n",
    "# Menampilkan pesan bahwa data telah dihapus\n",
    "print(cursor.rowcount, \"record(s) deleted.\")\n",
    "\n",
    "# Menutup koneksi\n",
    "conn.close()\n"
   ]
  }
 ],
 "metadata": {
  "kernelspec": {
   "display_name": "Python 3",
   "language": "python",
   "name": "python3"
  },
  "language_info": {
   "codemirror_mode": {
    "name": "ipython",
    "version": 3
   },
   "file_extension": ".py",
   "mimetype": "text/x-python",
   "name": "python",
   "nbconvert_exporter": "python",
   "pygments_lexer": "ipython3",
   "version": "3.10.8"
  }
 },
 "nbformat": 4,
 "nbformat_minor": 2
}
