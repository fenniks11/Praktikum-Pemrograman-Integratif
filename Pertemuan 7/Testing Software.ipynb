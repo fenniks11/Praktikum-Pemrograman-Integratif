{
 "cells": [
  {
   "cell_type": "markdown",
   "metadata": {},
   "source": [
    "# Testing Software"
   ]
  },
  {
   "cell_type": "markdown",
   "metadata": {},
   "source": [
    "Tipe-tipe pengujian software:  \n",
    "\n",
    "1. **Automated Testing (Pengujian Otomatis)**:\n",
    "   - Pengujian otomatis adalah proses menguji perangkat lunak menggunakan skrip atau alat otomatis.\n",
    "   - Ini melibatkan menulis skrip pengujian yang dapat menjalankan berbagai kasus pengujian secara otomatis.\n",
    "   - Contoh: Menggunakan *framework* seperti **Selenium** untuk mengotomatisasi pengujian antarmuka pengguna (UI).\n",
    "\n",
    "2. **Manual Testing (Pengujian Manual)**:\n",
    "   - Pengujian manual melibatkan interaksi manusia dengan aplikasi untuk memeriksa fungsionalitasnya.\n",
    "   - Ini melibatkan pengujian fitur, pengujian tampilan, dan pengujian fungsionalitas secara langsung.\n",
    "   - Contoh: Mengklik tombol di antarmuka pengguna dan memeriksa apakah semuanya berjalan dengan baik.\n",
    "\n",
    "3. **Unit Tests (Pengujian Unit)**:\n",
    "   - Pengujian unit adalah proses memeriksa setiap bagian kecil dari kode (unit) secara terpisah untuk memastikan bahwa mereka berfungsi dengan benar.\n",
    "   - Dalam Python, kita menggunakan *framework* seperti **unittest** atau **pytest** untuk menulis dan menjalankan pengujian unit.\n",
    "   - Contoh: Jika kita memiliki fungsi yang menghitung jumlah dua angka, kita dapat menguji apakah hasilnya benar dengan memberikan input yang berbeda."
   ]
  },
  {
   "cell_type": "markdown",
   "metadata": {},
   "source": [
    "- **Unit Test**  \n",
    "Implementasi Python dalam menggunakan modul `unittest` untuk melakukan pengujian (unit testing) terhadap fungsi `tambah(a, b)`, jalankan file `uji-unittest.ipynb`. Dalam file tersebut yang dilakukan adalah:\n",
    "\n",
    "1. **Import Modul `unittest`**:\n",
    "   - Mengimpor modul `unittest`, yang merupakan modul bawaan Python untuk melakukan pengujian unit.\n",
    "\n",
    "2. **Definisi Fungsi `tambah(a, b)`**:\n",
    "   - Deklarasi method `tambah(a, b)` untuk mengembalikan hasil penjumlahan dari dua argumen `a` dan `b`.\n",
    "\n",
    "3. **Definisi Kelas `TestPengujian`**:\n",
    "   - *Class* `TestPengujian` adalah turunan dari `unittest.TestCase`. Ini dibuat untuk mengelompokkan rangkaian metode pengujian (test methods) yang akan dijalankan oleh `unittest`.\n",
    "\n",
    "4. **Metode Pengujian `test_tambah`**:\n",
    "   - Metode `test_tambah` didefinisikan di dalam kelas `TestPengujian`.\n",
    "   - Metode ini menggunakan assertion `self.assertEqual()` untuk membandingkan hasil panggilan fungsi `tambah()` dengan nilai yang diharapkan.\n",
    "     - `self.assertEqual(tambah(2, 3), 5)`: Memastikan bahwa hasil dari `tambah(2, 3)` adalah `5`.\n",
    "     - `self.assertEqual(tambah(-1, 1), 0)`: Memastikan bahwa hasil dari `tambah(-1, 1)` adalah `0`.\n",
    "     - `self.assertEqual(tambah(0, 0), 0)`: Memastikan bahwa hasil dari `tambah(0, 0)` adalah `0`.\n",
    "\n",
    "5. **Eksekusi Pengujian**:\n",
    "   - Baris `if __name__ == '__main__': unittest.main()` digunakan untuk menjalankan unit test jika file ini dieksekusi secara langsung.\n",
    "   - Fungsi `unittest.main()` akan secara otomatis mengeksekusi semua metode pengujian yang didefinisikan dalam kelas-kelas turunan `unittest.TestCase` di dalam file ini.\n",
    "\n",
    "**Output:**  \n",
    "`...`  \n",
    "`----------------------------------------------------------------------`  \n",
    "`Ran 1 test in 0.001s`  \n",
    "\n",
    "`OK`\n"
   ]
  }
 ],
 "metadata": {
  "language_info": {
   "name": "python"
  }
 },
 "nbformat": 4,
 "nbformat_minor": 2
}
