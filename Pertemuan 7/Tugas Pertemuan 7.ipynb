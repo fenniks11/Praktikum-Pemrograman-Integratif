{
 "cells": [
  {
   "cell_type": "markdown",
   "metadata": {},
   "source": [
    "# Tugas Pertemuan 7"
   ]
  },
  {
   "cell_type": "markdown",
   "metadata": {},
   "source": [
    "1. Pahami file `uji-pytest.py` dan `uji-doctest.py`.\n",
    "2. Ganti fungsi(method) yang diuji pada file tersebut.\n",
    "3. Jelaskan setiap baris kode seperti pada file `Testing Software.ipynb`\n",
    "4. Tuliskan di MS.Word(Convert ke PDF) atau bisa melalui Jupyter Notebook. Dengan menyertakan screenshot output langsung kedalam filenya. \n",
    "5. Gunakan format `NIM_Tugas_Pertemuan7.pdf` atau `NIM_Tugas_Pertemuan7.ipynb`"
   ]
  }
 ],
 "metadata": {
  "language_info": {
   "name": "python"
  }
 },
 "nbformat": 4,
 "nbformat_minor": 2
}
